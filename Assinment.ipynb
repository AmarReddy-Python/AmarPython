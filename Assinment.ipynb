{
 "cells": [
  {
   "cell_type": "code",
   "execution_count": 8,
   "metadata": {},
   "outputs": [
    {
     "name": "stdout",
     "output_type": "stream",
     "text": [
      "Total number of people:426\n",
      "Number of seats for bus:60\n",
      "Required Buses: 6\n"
     ]
    }
   ],
   "source": [
    "a=int(input(\"Total number of people:\"))\n",
    "b=int(input(\"Number of seats for bus:\"))\n",
    "c= a%b\n",
    "print(\"Required Buses:\",c)"
   ]
  },
  {
   "cell_type": "code",
   "execution_count": 12,
   "metadata": {},
   "outputs": [
    {
     "name": "stdout",
     "output_type": "stream",
     "text": [
      "Temparature Fahrenheit:79\n",
      "Celsius value: 26.11111111111111\n"
     ]
    }
   ],
   "source": [
    "Fah=float(input(\"Temparature Fahrenheit:\"))\n",
    "cel = (Fah-32)/1.8\n",
    "print(\"Celsius value:\",cel)#Converting farhenheit to celsius"
   ]
  },
  {
   "cell_type": "code",
   "execution_count": 10,
   "metadata": {},
   "outputs": [
    {
     "name": "stdout",
     "output_type": "stream",
     "text": [
      "Temparature Celsius74\n",
      "Fahrenheit value: 165.20000000000002\n"
     ]
    }
   ],
   "source": [
    "Cel=float(input(\"Temparature Celsius\"))\n",
    "Fah = Cel*1.8+32\n",
    "print(\"Fahrenheit value:\",Fah)"
   ]
  },
  {
   "cell_type": "code",
   "execution_count": 13,
   "metadata": {},
   "outputs": [
    {
     "name": "stdout",
     "output_type": "stream",
     "text": [
      "2304\n",
      "250047\n",
      "2304 250047\n"
     ]
    }
   ],
   "source": [
    "x1=23\n",
    "x2=25\n",
    "x3=41\n",
    "x4=22\n",
    "print((x1+x2)**2)\n",
    "print((x3+x4)**3)\n",
    "print((x1+x2)**2,(x3+x4)**3)"
   ]
  },
  {
   "cell_type": "code",
   "execution_count": 15,
   "metadata": {},
   "outputs": [
    {
     "name": "stdout",
     "output_type": "stream",
     "text": [
      "256\n"
     ]
    }
   ],
   "source": [
    "a=2**8\n",
    "print(a)"
   ]
  },
  {
   "cell_type": "code",
   "execution_count": 16,
   "metadata": {},
   "outputs": [
    {
     "name": "stdout",
     "output_type": "stream",
     "text": [
      "4\n"
     ]
    }
   ],
   "source": [
    "a=2\n",
    "print(a*2)"
   ]
  },
  {
   "cell_type": "code",
   "execution_count": 18,
   "metadata": {},
   "outputs": [
    {
     "name": "stdout",
     "output_type": "stream",
     "text": [
      "12\n",
      "14\n",
      "676\n"
     ]
    }
   ],
   "source": [
    "a=12\n",
    "b= 14\n",
    "#c = a+b\n",
    "#print(c*2)\n",
    "print(a)\n",
    "print(b)\n",
    "print((a+b)**2)"
   ]
  },
  {
   "cell_type": "code",
   "execution_count": 19,
   "metadata": {},
   "outputs": [
    {
     "data": {
      "text/plain": [
       "2.0"
      ]
     },
     "execution_count": 19,
     "metadata": {},
     "output_type": "execute_result"
    }
   ],
   "source": [
    "import math\n",
    "math.sqrt(4)"
   ]
  },
  {
   "cell_type": "code",
   "execution_count": 20,
   "metadata": {},
   "outputs": [
    {
     "ename": "NameError",
     "evalue": "name 'sqrt' is not defined",
     "output_type": "error",
     "traceback": [
      "\u001b[1;31m---------------------------------------------------------------------------\u001b[0m",
      "\u001b[1;31mNameError\u001b[0m                                 Traceback (most recent call last)",
      "\u001b[1;32m<ipython-input-20-1347e4ffb3dd>\u001b[0m in \u001b[0;36m<module>\u001b[1;34m\u001b[0m\n\u001b[0;32m      1\u001b[0m \u001b[1;32mimport\u001b[0m \u001b[0mmath\u001b[0m\u001b[1;33m\u001b[0m\u001b[1;33m\u001b[0m\u001b[0m\n\u001b[1;32m----> 2\u001b[1;33m \u001b[0msqrt\u001b[0m\u001b[1;33m(\u001b[0m\u001b[1;36m4\u001b[0m\u001b[1;33m)\u001b[0m\u001b[1;33m\u001b[0m\u001b[1;33m\u001b[0m\u001b[0m\n\u001b[0m",
      "\u001b[1;31mNameError\u001b[0m: name 'sqrt' is not defined"
     ]
    }
   ],
   "source": [
    "mm=0.1\n",
    "cm=10\n",
    "m=100\n",
    "km=1000\n",
    "feet=0.30\n",
    "yards=0.91\n",
    "km = input(\"Enter Kilomeeters:\")\n"
   ]
  },
  {
   "cell_type": "code",
   "execution_count": 21,
   "metadata": {},
   "outputs": [
    {
     "name": "stdout",
     "output_type": "stream",
     "text": [
      "Enter name:\"G P Amareswara Reddy\"\n",
      "Enter Age:24.6\n",
      "Enter Height:165.53\n",
      "Name is: \"G P Amareswara Reddy\"\n",
      "Age is: 24.6\n",
      "Height is: 165.53\n"
     ]
    }
   ],
   "source": [
    "name=input(\"Enter name:\")\n",
    "age=input(\"Enter Age:\")\n",
    "height=float(input(\"Enter Height:\"))\n",
    "print(\"Name is:\",name)\n",
    "print(\"Age is:\",age)\n",
    "print(\"Height is:\",height)"
   ]
  },
  {
   "cell_type": "code",
   "execution_count": 24,
   "metadata": {},
   "outputs": [
    {
     "ename": "NameError",
     "evalue": "name 'uppercase' is not defined",
     "output_type": "error",
     "traceback": [
      "\u001b[1;31m---------------------------------------------------------------------------\u001b[0m",
      "\u001b[1;31mNameError\u001b[0m                                 Traceback (most recent call last)",
      "\u001b[1;32m<ipython-input-24-c2ee8ff80b4b>\u001b[0m in \u001b[0;36m<module>\u001b[1;34m\u001b[0m\n\u001b[0;32m      1\u001b[0m \u001b[0ms\u001b[0m\u001b[1;33m=\u001b[0m\u001b[1;34m\"Amar\"\u001b[0m\u001b[1;33m\u001b[0m\u001b[1;33m\u001b[0m\u001b[0m\n\u001b[1;32m----> 2\u001b[1;33m \u001b[0mprint\u001b[0m\u001b[1;33m(\u001b[0m\u001b[0muppercase\u001b[0m\u001b[1;33m(\u001b[0m\u001b[0ms\u001b[0m\u001b[1;33m)\u001b[0m\u001b[1;33m)\u001b[0m\u001b[1;33m\u001b[0m\u001b[1;33m\u001b[0m\u001b[0m\n\u001b[0m",
      "\u001b[1;31mNameError\u001b[0m: name 'uppercase' is not defined"
     ]
    }
   ],
   "source": [
    "s=\"Amar\"\n",
    "print(uppercase(s))"
   ]
  },
  {
   "cell_type": "code",
   "execution_count": null,
   "metadata": {},
   "outputs": [],
   "source": []
  }
 ],
 "metadata": {
  "kernelspec": {
   "display_name": "Python 3",
   "language": "python",
   "name": "python3"
  },
  "language_info": {
   "codemirror_mode": {
    "name": "ipython",
    "version": 3
   },
   "file_extension": ".py",
   "mimetype": "text/x-python",
   "name": "python",
   "nbconvert_exporter": "python",
   "pygments_lexer": "ipython3",
   "version": "3.7.4"
  }
 },
 "nbformat": 4,
 "nbformat_minor": 2
}
