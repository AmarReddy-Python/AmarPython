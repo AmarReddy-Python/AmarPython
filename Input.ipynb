{
 "cells": [
  {
   "cell_type": "code",
   "execution_count": 1,
   "metadata": {},
   "outputs": [
    {
     "name": "stdout",
     "output_type": "stream",
     "text": [
      "300\n"
     ]
    }
   ],
   "source": [
    "a=100\n",
    "b=200\n",
    "print(a+b)"
   ]
  },
  {
   "cell_type": "code",
   "execution_count": 4,
   "metadata": {},
   "outputs": [
    {
     "name": "stdout",
     "output_type": "stream",
     "text": [
      "Enter a Value:20\n",
      "20\n",
      "<class 'str'>\n"
     ]
    }
   ],
   "source": [
    "a=input(\"Enter a Value:\")\n",
    "print(a)\n",
    "print(type(a))"
   ]
  },
  {
   "cell_type": "code",
   "execution_count": 3,
   "metadata": {},
   "outputs": [
    {
     "name": "stdout",
     "output_type": "stream",
     "text": [
      "Enter a Value:20\n",
      "Enter b Value:20\n",
      "2020\n"
     ]
    }
   ],
   "source": [
    "a=input(\"Enter a Value:\")\n",
    "b=input(\"Enter b Value:\")\n",
    "print(a+b)"
   ]
  },
  {
   "cell_type": "code",
   "execution_count": 5,
   "metadata": {},
   "outputs": [
    {
     "name": "stdout",
     "output_type": "stream",
     "text": [
      "Enter a Value:\"Amareswara Reddy\"\n",
      "\"Amareswara Reddy\"\n",
      "<class 'str'>\n"
     ]
    }
   ],
   "source": [
    "a=input(\"Enter a Value:\")\n",
    "print(a)\n",
    "print(type(a))"
   ]
  },
  {
   "cell_type": "code",
   "execution_count": 6,
   "metadata": {},
   "outputs": [
    {
     "name": "stdout",
     "output_type": "stream",
     "text": [
      "Enter a Value:{20,6,0,79,65,52,2}\n",
      "{20,6,0,79,65,52,2}\n",
      "<class 'str'>\n"
     ]
    }
   ],
   "source": [
    "a=input(\"Enter a Value:\")\n",
    "print(a)\n",
    "print(type(a))"
   ]
  },
  {
   "cell_type": "code",
   "execution_count": 7,
   "metadata": {},
   "outputs": [
    {
     "name": "stdout",
     "output_type": "stream",
     "text": [
      "Enter a Value:(10,2,3,4,5,6,7,8,9)\n",
      "(10,2,3,4,5,6,7,8,9)\n",
      "<class 'str'>\n"
     ]
    }
   ],
   "source": [
    "a=input(\"Enter a Value:\")\n",
    "print(a)\n",
    "print(type(a))"
   ]
  },
  {
   "cell_type": "code",
   "execution_count": 8,
   "metadata": {},
   "outputs": [
    {
     "name": "stdout",
     "output_type": "stream",
     "text": [
      "Enter a Value:[1,2,3,4,5,6,7,8,9]\n",
      "[1,2,3,4,5,6,7,8,9]\n",
      "<class 'str'>\n"
     ]
    }
   ],
   "source": [
    "a=input(\"Enter a Value:\")\n",
    "print(a)\n",
    "print(type(a))"
   ]
  },
  {
   "cell_type": "code",
   "execution_count": 9,
   "metadata": {},
   "outputs": [
    {
     "name": "stdout",
     "output_type": "stream",
     "text": [
      "Enter a Value:\"Amar1325\"\n",
      "\"Amar1325\"\n",
      "<class 'str'>\n"
     ]
    }
   ],
   "source": [
    "a=input(\"Enter a Value:\")\n",
    "print(a)\n",
    "print(type(a))"
   ]
  },
  {
   "cell_type": "code",
   "execution_count": 10,
   "metadata": {},
   "outputs": [
    {
     "name": "stdout",
     "output_type": "stream",
     "text": [
      "Enter a Value:0X1324\n",
      "0X1324\n",
      "<class 'str'>\n"
     ]
    }
   ],
   "source": [
    "a=input(\"Enter a Value:\")\n",
    "print(a)\n",
    "print(type(a))"
   ]
  },
  {
   "cell_type": "code",
   "execution_count": 11,
   "metadata": {},
   "outputs": [
    {
     "name": "stdout",
     "output_type": "stream",
     "text": [
      "Enter a Value:10.243\n",
      "10.243\n",
      "<class 'str'>\n"
     ]
    }
   ],
   "source": [
    "a=input(\"Enter a Value:\")\n",
    "print(a)\n",
    "print(type(a))"
   ]
  },
  {
   "cell_type": "code",
   "execution_count": null,
   "metadata": {},
   "outputs": [],
   "source": []
  }
 ],
 "metadata": {
  "kernelspec": {
   "display_name": "Python 3",
   "language": "python",
   "name": "python3"
  },
  "language_info": {
   "codemirror_mode": {
    "name": "ipython",
    "version": 3
   },
   "file_extension": ".py",
   "mimetype": "text/x-python",
   "name": "python",
   "nbconvert_exporter": "python",
   "pygments_lexer": "ipython3",
   "version": "3.7.4"
  }
 },
 "nbformat": 4,
 "nbformat_minor": 2
}
